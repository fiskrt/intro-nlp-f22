{
  "nbformat": 4,
  "nbformat_minor": 0,
  "metadata": {
    "colab": {
      "provenance": [],
      "collapsed_sections": []
    },
    "kernelspec": {
      "name": "python3",
      "display_name": "Python 3"
    },
    "language_info": {
      "name": "python"
    }
  },
  "cells": [
    {
      "cell_type": "markdown",
      "source": [
        "# Assignment 1 – Backprop"
      ],
      "metadata": {
        "id": "Kf49KbBpaJsu"
      }
    },
    {
      "cell_type": "code",
      "source": [
        "#@title Library Imports [do not change]\n",
        "\n",
        "import importlib \n",
        "!git clone https://www.github.com/rycolab/intro-nlp-f22.git\n",
        "utils = importlib.import_module(\"intro-nlp-f22.assignment_1.utils\")\n",
        "\n",
        "import re\n",
        "import random\n",
        "from collections import defaultdict\n",
        "import itertools\n",
        "from abc import ABC, abstractmethod\n",
        "import math"
      ],
      "metadata": {
        "colab": {
          "base_uri": "https://localhost:8080/"
        },
        "id": "wAhpRJSCgCh4",
        "outputId": "c9668127-0ae5-4189-d777-c1beb40af453",
        "cellView": "form"
      },
      "execution_count": 49,
      "outputs": [
        {
          "output_type": "stream",
          "name": "stdout",
          "text": [
            "fatal: destination path 'intro-nlp-f22' already exists and is not an empty directory.\n"
          ]
        }
      ]
    },
    {
      "cell_type": "code",
      "source": [
        "#@title Select and Parse Math Problems [do not change]\n",
        "\n",
        "#@markdown select math problem\n",
        "\n",
        "math_problem_i = \"0\" #@param [0,1,2,3]\n",
        "math_problem = utils.MATH_PROBLEMS[int(math_problem_i)]\n",
        "print(math_problem)\n",
        "\n",
        "parser = utils.Parser()\n",
        "infix, in_vars = parser.parse(math_problem[\"problem\"], in_vars = math_problem[\"in_vars\"])\n",
        "print(infix, in_vars)"
      ],
      "metadata": {
        "colab": {
          "base_uri": "https://localhost:8080/"
        },
        "id": "awwwql_ii0y0",
        "outputId": "1ad69ce5-04d8-4a34-c9b8-7c8bf35db2e0"
      },
      "execution_count": 50,
      "outputs": [
        {
          "output_type": "stream",
          "name": "stdout",
          "text": [
            "{'problem': 'x/y', 'in_vars': {'x': 1.0, 'y': 1.0}, 'output': 1.0, 'derivative': {'x': 1.0, 'y': -1.0}}\n",
            "['x', '/', 'y'] {'x': 1.0, 'y': 1.0}\n"
          ]
        }
      ]
    },
    {
      "cell_type": "code",
      "source": [
        "from ast import Not\n",
        "#@title ToDo1: Building\n",
        "\n",
        "class Builder():\n",
        "\n",
        "    class Node():\n",
        "        \"\"\"\n",
        "          If node is a constant then var=None\n",
        "          if node is leaf then parents=None\n",
        "        \"\"\"\n",
        "        def __init__(self, var, parents=[], operator: str=None, value: float=None):\n",
        "            self.operator = operator\n",
        "            self.var = var\n",
        "            self.value = value\n",
        "\n",
        "            self.parents = parents\n",
        "            self.children = []\n",
        "            for p in self.parents:\n",
        "                p.children.append(self)\n",
        "\n",
        "            # Holds the gradient, gradient[var]=partial wrt 'var'.\n",
        "            self.grad = {}\n",
        "        \n",
        "        def __str__(self):\n",
        "            if self.parents is None:\n",
        "              self.parents = []\n",
        "            return f'var: {str(self.var):6} op: {str(self.operator):6} val: {self.value} hash: {hash(self)} len: {len(self.children)}'\n",
        "\n",
        "\n",
        "    def build_graph(self, infix, in_vars: dict, avail_vars: set()):\n",
        "        \"\"\"\n",
        "          Builds the computational graph recursively.\n",
        "          Values are not initiated here.\n",
        "          Operators are strings, i.e not mapped to respective Operator class.\n",
        "        \"\"\"\n",
        "        if not isinstance(infix, list):\n",
        "            try:\n",
        "                n = self.Node(None, value=float(infix))\n",
        "            except ValueError:\n",
        "                if not (infix in in_vars):\n",
        "                    print(f'Variable \\'{infix}\\' is used but is not in \\'in_vars\\'.')\n",
        "                # We must check that variable Node doesnt already exist!\n",
        "                # e.g. if input is x+x\n",
        "                # must be able to get a node from knowing its variable name\n",
        "                # i.e mapping from variable name to Node object.\n",
        "                if infix in self.in_nodes:\n",
        "                    n = self.in_nodes[infix]\n",
        "                else:\n",
        "                    n = self.Node(infix)\n",
        "                    self.in_nodes[infix] = n\n",
        "            return n\n",
        "          \n",
        "        if len(infix) == 3:\n",
        "            p1 = self.build_graph(infix[0], in_vars, avail_vars)\n",
        "            p2 = self.build_graph(infix[2], in_vars, avail_vars)\n",
        "            n = self.Node(avail_vars.pop(), [p1, p2],  operator=infix[1])\n",
        "        elif len(infix) == 2:\n",
        "            p = self.build_graph(infix[1], in_vars, avail_vars)\n",
        "            n = self.Node(avail_vars.pop(), [p], operator=infix[0])\n",
        "        else:\n",
        "            raise NotImplementedError('Only unary and binary ops are supported')\n",
        "        return n\n",
        "    \n",
        "    def topo_sort(self, node):\n",
        "        \"\"\"\n",
        "            Return the computational graph in topological order.\n",
        "        \"\"\"\n",
        "        sorted = []\n",
        "        visited = set()\n",
        "\n",
        "        def dfs_topo(node):\n",
        "            \"\"\" Topo sort from node that can reach all others. \"\"\"\n",
        "            for p in node.parents:\n",
        "                if p not in visited:\n",
        "                    visited.add(p)\n",
        "                    dfs_topo(p)\n",
        "            sorted.append(node)         \n",
        "\n",
        "        dfs_topo(node)\n",
        "        return sorted\n",
        "\n",
        "    def __init__(self, infix: list, in_vars: dict = {}):\n",
        "        \"\"\"\n",
        "        infix: list of infix notation parse, e.g. [['exp', 2], '-', 3]\n",
        "        in_vars: dict of input variables to ensure they are not used as intermediate or output variables\n",
        "        RETURN: computation graph in a data structure of your choosing\n",
        "        \"\"\"\n",
        "\n",
        "        ## some alphabetical vars to use as intermediate and output variables minus the input vars to avoid duplicates\n",
        "        avail_vars = list(map(chr, range(97, 123))) + list(map(chr, range(945, 969)))\n",
        "        if len(in_vars.keys()) > 0:\n",
        "            avail_vars = set(avail_vars) - set(in_vars)\n",
        "        self.avail_vars = sorted(list(set(avail_vars)), reverse=True)\n",
        "        self.infix = infix\n",
        "        self.in_nodes = {}\n",
        "        print(self.avail_vars)\n",
        "\n",
        "        g = self.build_graph(infix, in_vars, avail_vars)\n",
        "        self.graph = self.topo_sort(g)\n",
        "\n",
        "\n",
        "        print(self.in_nodes)\n",
        "        def printg(g):\n",
        "            print(g)\n",
        "            if g.parents is None:\n",
        "                return\n",
        "            for p in g.parents:\n",
        "                printg(p)\n",
        "        printg(g)\n",
        "        print('-'*50)\n",
        "        for n in self.graph:\n",
        "            print(n)\n",
        "          \n",
        "        \n",
        "       # pass  ## ToDO: implement and set self.graph\n",
        "\n",
        "\n",
        "if __name__ == '__main__':\n",
        "    print(infix)\n",
        "    g = Builder(infix, in_vars)\n",
        "   # print(g.graph)\n",
        "    #g = Builder([['x', '+', 'y'],'+',['z', '+', 'z2']], in_vars)\n",
        "    \n",
        "    "
      ],
      "metadata": {
        "colab": {
          "base_uri": "https://localhost:8080/"
        },
        "id": "gEY0OEr4X2sO",
        "outputId": "b0605e1f-93b7-4f33-9468-d6a269e3a339"
      },
      "execution_count": 60,
      "outputs": [
        {
          "output_type": "stream",
          "name": "stdout",
          "text": [
            "['x', '/', 'y']\n",
            "['ψ', 'χ', 'φ', 'υ', 'τ', 'σ', 'ς', 'ρ', 'π', 'ο', 'ξ', 'ν', 'μ', 'λ', 'κ', 'ι', 'θ', 'η', 'ζ', 'ε', 'δ', 'γ', 'β', 'α', 'z', 'w', 'v', 'u', 't', 's', 'r', 'q', 'p', 'o', 'n', 'm', 'l', 'k', 'j', 'i', 'h', 'g', 'f', 'e', 'd', 'c', 'b', 'a']\n",
            "{'x': <__main__.Builder.Node object at 0x7f8e20819910>, 'y': <__main__.Builder.Node object at 0x7f8e20819b10>}\n",
            "var: ν      op: /      val: None hash: 8765525465509 len: 0\n",
            "var: x      op: None   val: None hash: 8765525465489 len: 1\n",
            "var: y      op: None   val: None hash: 8765525465521 len: 1\n",
            "--------------------------------------------------\n",
            "var: x      op: None   val: None hash: 8765525465489 len: 1\n",
            "var: y      op: None   val: None hash: 8765525465521 len: 1\n",
            "var: ν      op: /      val: None hash: 8765525465509 len: 0\n"
          ]
        }
      ]
    },
    {
      "cell_type": "code",
      "source": [
        "#@title ToDo2: Operations\n",
        "\n",
        "class Operator(ABC):\n",
        "\n",
        "    @abstractmethod\n",
        "    def f(self, a, b = None) -> float:\n",
        "        raise NotImplementedError()\n",
        "        return f_res\n",
        "\n",
        "    @abstractmethod\n",
        "    def df(self, a, b = None) -> list:\n",
        "        raise NotImplementedError()\n",
        "        return [df_res]\n",
        "\n",
        "class Exp(Operator):\n",
        "\n",
        "    def f(self, a, b = None):\n",
        "        return math.exp(a)\n",
        "\n",
        "    def df(self, a, b = None):\n",
        "        return [math.exp(a)]\n",
        "\n",
        "class Log(Operator):\n",
        "    ## natural logarithm\n",
        "\n",
        "    def f(self, a, b = None):\n",
        "        pass ## ToDO: implement\n",
        "\n",
        "    def df(self, a, b = None):\n",
        "        pass ## ToDO: implement\n",
        "\n",
        "class Mult(Operator):\n",
        "\n",
        "    def f(self, a, b):\n",
        "        return a * b\n",
        "\n",
        "    def df(self, a, b=None):\n",
        "        return [b, a]\n",
        "\n",
        "class Div(Operator):\n",
        "\n",
        "    def f(self, a, b): # i did this\n",
        "        return a / b\n",
        "\n",
        "    def df(self, a, b): # i did this\n",
        "        return [1.0 / b, -a / b**2]\n",
        "\n",
        "class Add(Operator):\n",
        "\n",
        "    def f(self, a, b): # i did this\n",
        "        return a + b\n",
        "\n",
        "    def df(self, a, b = None):\n",
        "        pass ## ToDO: implement\n",
        "\n",
        "class Sub(Operator):\n",
        "\n",
        "    def f(self, a, b = None): # i did this\n",
        "        if b is None:\n",
        "            return -a # should be in multiply operator instead?\n",
        "        return a-b\n",
        "\n",
        "    def df(self, a, b = None):\n",
        "        pass ## ToDO: implement\n",
        "\n",
        "class Pow(Operator):\n",
        "\n",
        "    def f(self, a, b):\n",
        "        return a**b\n",
        "\n",
        "    def df(self, a, b):\n",
        "        if a <= 0: ## work-around: treat as unary operation if -a^b\n",
        "            return [b * (a ** (b - 1))]\n",
        "        else:\n",
        "            return [b * (a ** (b - 1)), (a ** b) * math.log(a)]\n",
        "\n",
        "class Sin(Operator):\n",
        "\n",
        "    def f(self, a, b=None): # i did this\n",
        "        return math.sin(a)\n",
        "\n",
        "    def df(self, a, b=None):\n",
        "        pass ## ToDO: implement\n",
        "\n",
        "class Cos(Operator):\n",
        "\n",
        "    def f(self, a, b=None):\n",
        "        pass ## ToDO: implement\n",
        "\n",
        "    def df(self, a, b=None):\n",
        "        pass ## ToDO: implement"
      ],
      "metadata": {
        "id": "FqYDZ0rvZQVr"
      },
      "execution_count": 48,
      "outputs": []
    },
    {
      "cell_type": "code",
      "source": [
        "#@title ToDo 3: Executing\n",
        "\n",
        "class Executor():\n",
        "\n",
        "    def __init__(self, graph: dict, in_vars: dict = {}):\n",
        "        \"\"\"\n",
        "        graph: computation graph in a data structure of your choosing\n",
        "        in_vars: dict of input variables, e.g. {\"x\": 2.0, \"y\": -1.0}\n",
        "        \"\"\"\n",
        "        self.graph = graph\n",
        "        self.in_vars = in_vars\n",
        "        self.fn_map = {\"log\": Log(), \"exp\": Exp(), \"+\": Add(), \"-\": Sub(), \"^\": Pow(), \"sin\": Sin(), \"cos\": Cos(), \"*\": Mult(), \"/\": Div()}\n",
        "        self.output = -1\n",
        "        self.derivative = {}\n",
        "\n",
        "    ## forward execution____________________________\n",
        "\n",
        "    def forward(self, ):\n",
        "        for n in self.graph:\n",
        "            if n.var in self.in_vars:\n",
        "                n.value = self.in_vars[n.var]\n",
        "            elif n.operator:\n",
        "                inputs = [p.value for p in n.parents]\n",
        "                assert len(inputs) == 1 or len(inputs) == 2\n",
        "                n.value = self.fn_map[n.operator].f(*inputs)\n",
        "\n",
        "        self.output = self.graph[-1].value\n",
        "\n",
        "    ## backward execution____________________________\n",
        "\n",
        "    def backward(self, ):\n",
        "\n",
        "        for n in self.graph[::-1]:\n",
        "            print(n)\n",
        "            print(f'par: {len(n.parents)}, child: {len(n.children)}')\n",
        "            if n.operator:\n",
        "                inputs = [p.value for p in n.parents]\n",
        "                assert len(inputs) == 1 or len(inputs) == 2\n",
        "                # check if one of the inputs are constant?\n",
        "                # that may affect derivative?\n",
        "                grad = self.fn_map[n.operator].df(*inputs)\n",
        "\n",
        "                # Can it happen that two inputs have gradient with len 1.\n",
        "                # yes? if one of the inputs are constant?\n",
        "                for p in n.parents:\n",
        "                    if p in n.grad:\n",
        "                        n.grad[p].append(grad.pop(0))\n",
        "                    else:\n",
        "                        n.grad[p] = [grad.pop(0)]\n",
        "            elif n.var in self.in_vars: # Detta ska inte bara göras i leaf?\n",
        "                grads = [c.grad for c in n.children]\n",
        "                print(grads)\n",
        "                #[{'node1': [2,3]}, {'node2':[1], 'node3':[4]}]\n",
        "                n.grad = sum([sum(g[n]) for g in grads])\n",
        "\n",
        "            if n.var in self.in_vars:\n",
        "                self.derivative[n.var] = n.grad\n",
        "\n",
        "\n",
        "\n",
        "if __name__ == '__main__':\n",
        "  e = Executor(g.graph, in_vars=in_vars)\n",
        "  e.forward()\n",
        "  e.backward()\n",
        "  print(e.output)\n",
        "  print(e.derivative)"
      ],
      "metadata": {
        "colab": {
          "base_uri": "https://localhost:8080/"
        },
        "id": "l965tc0PZD1y",
        "outputId": "f160fab7-6d7b-4a4e-a417-2cd3ad975a92"
      },
      "execution_count": 61,
      "outputs": [
        {
          "output_type": "stream",
          "name": "stdout",
          "text": [
            "var: ν      op: /      val: 1.0 hash: 8765525465509 len: 0\n",
            "par: 2, child: 0\n",
            "var: y      op: None   val: 1.0 hash: 8765525465521 len: 1\n",
            "par: 0, child: 1\n",
            "[{<__main__.Builder.Node object at 0x7f8e20819910>: [1.0], <__main__.Builder.Node object at 0x7f8e20819b10>: [-1.0]}]\n",
            "var: x      op: None   val: 1.0 hash: 8765525465489 len: 1\n",
            "par: 0, child: 1\n",
            "[{<__main__.Builder.Node object at 0x7f8e20819910>: [1.0], <__main__.Builder.Node object at 0x7f8e20819b10>: [-1.0]}]\n",
            "1.0\n",
            "{'y': -1.0, 'x': 1.0}\n"
          ]
        }
      ]
    },
    {
      "cell_type": "code",
      "source": [
        "#@title Test Function for Debugging [do not change]\n",
        "\n",
        "#utils.test_backprop(Builder, Executor, math_problem)\n",
        "my_test = {'problem': 'x/x+x', 'in_vars': {'x': 5.0}, 'output': 6.0, 'derivative': {'x': 1.0}}\n",
        "utils.test_backprop(Builder, Executor, my_test)"
      ],
      "metadata": {
        "colab": {
          "base_uri": "https://localhost:8080/",
          "height": 593
        },
        "id": "lw-g9g_Avox_",
        "outputId": "18fdb1b0-8fac-43e1-8d9e-577cca55552a"
      },
      "execution_count": 65,
      "outputs": [
        {
          "output_type": "stream",
          "name": "stdout",
          "text": [
            "['ψ', 'χ', 'φ', 'υ', 'τ', 'σ', 'ς', 'ρ', 'π', 'ο', 'ξ', 'ν', 'μ', 'λ', 'κ', 'ι', 'θ', 'η', 'ζ', 'ε', 'δ', 'γ', 'β', 'α', 'z', 'y', 'w', 'v', 'u', 't', 's', 'r', 'q', 'p', 'o', 'n', 'm', 'l', 'k', 'j', 'i', 'h', 'g', 'f', 'e', 'd', 'c', 'b', 'a']\n",
            "{'x': <__main__.Builder.Node object at 0x7f8e207b5750>}\n",
            "var: w      op: +      val: None hash: 8765525439965 len: 0\n",
            "var: ν      op: /      val: None hash: 8765525439761 len: 1\n",
            "var: x      op: None   val: None hash: 8765525439861 len: 3\n",
            "var: x      op: None   val: None hash: 8765525439861 len: 3\n",
            "var: x      op: None   val: None hash: 8765525439861 len: 3\n",
            "--------------------------------------------------\n",
            "var: x      op: None   val: None hash: 8765525439861 len: 3\n",
            "var: ν      op: /      val: None hash: 8765525439761 len: 1\n",
            "var: w      op: +      val: None hash: 8765525439965 len: 0\n",
            "var: w      op: +      val: 6.0 hash: 8765525439965 len: 0\n",
            "par: 2, child: 0\n"
          ]
        },
        {
          "output_type": "error",
          "ename": "AttributeError",
          "evalue": "ignored",
          "traceback": [
            "\u001b[0;31m---------------------------------------------------------------------------\u001b[0m",
            "\u001b[0;31mAttributeError\u001b[0m                            Traceback (most recent call last)",
            "\u001b[0;32m<ipython-input-65-5887c0d9f5c3>\u001b[0m in \u001b[0;36m<module>\u001b[0;34m\u001b[0m\n\u001b[1;32m      3\u001b[0m \u001b[0;31m#utils.test_backprop(Builder, Executor, math_problem)\u001b[0m\u001b[0;34m\u001b[0m\u001b[0;34m\u001b[0m\u001b[0;34m\u001b[0m\u001b[0m\n\u001b[1;32m      4\u001b[0m \u001b[0mmy_test\u001b[0m \u001b[0;34m=\u001b[0m \u001b[0;34m{\u001b[0m\u001b[0;34m'problem'\u001b[0m\u001b[0;34m:\u001b[0m \u001b[0;34m'x/x+x'\u001b[0m\u001b[0;34m,\u001b[0m \u001b[0;34m'in_vars'\u001b[0m\u001b[0;34m:\u001b[0m \u001b[0;34m{\u001b[0m\u001b[0;34m'x'\u001b[0m\u001b[0;34m:\u001b[0m \u001b[0;36m5.0\u001b[0m\u001b[0;34m}\u001b[0m\u001b[0;34m,\u001b[0m \u001b[0;34m'output'\u001b[0m\u001b[0;34m:\u001b[0m \u001b[0;36m6.0\u001b[0m\u001b[0;34m,\u001b[0m \u001b[0;34m'derivative'\u001b[0m\u001b[0;34m:\u001b[0m \u001b[0;34m{\u001b[0m\u001b[0;34m'x'\u001b[0m\u001b[0;34m:\u001b[0m \u001b[0;36m1.0\u001b[0m\u001b[0;34m}\u001b[0m\u001b[0;34m}\u001b[0m\u001b[0;34m\u001b[0m\u001b[0;34m\u001b[0m\u001b[0m\n\u001b[0;32m----> 5\u001b[0;31m \u001b[0mutils\u001b[0m\u001b[0;34m.\u001b[0m\u001b[0mtest_backprop\u001b[0m\u001b[0;34m(\u001b[0m\u001b[0mBuilder\u001b[0m\u001b[0;34m,\u001b[0m \u001b[0mExecutor\u001b[0m\u001b[0;34m,\u001b[0m \u001b[0mmy_test\u001b[0m\u001b[0;34m)\u001b[0m\u001b[0;34m\u001b[0m\u001b[0;34m\u001b[0m\u001b[0m\n\u001b[0m",
            "\u001b[0;32m/content/intro-nlp-f22/assignment_1/utils.py\u001b[0m in \u001b[0;36mtest_backprop\u001b[0;34m(Builder, Executor, math_problems)\u001b[0m\n\u001b[1;32m    123\u001b[0m         \u001b[0me\u001b[0m \u001b[0;34m=\u001b[0m \u001b[0mExecutor\u001b[0m\u001b[0;34m(\u001b[0m\u001b[0mgraph\u001b[0m \u001b[0;34m=\u001b[0m \u001b[0mb\u001b[0m\u001b[0;34m.\u001b[0m\u001b[0mgraph\u001b[0m\u001b[0;34m,\u001b[0m \u001b[0min_vars\u001b[0m\u001b[0;34m=\u001b[0m\u001b[0min_vars\u001b[0m\u001b[0;34m)\u001b[0m\u001b[0;34m\u001b[0m\u001b[0;34m\u001b[0m\u001b[0m\n\u001b[1;32m    124\u001b[0m         \u001b[0me\u001b[0m\u001b[0;34m.\u001b[0m\u001b[0mforward\u001b[0m\u001b[0;34m(\u001b[0m\u001b[0;34m)\u001b[0m\u001b[0;34m\u001b[0m\u001b[0;34m\u001b[0m\u001b[0m\n\u001b[0;32m--> 125\u001b[0;31m         \u001b[0me\u001b[0m\u001b[0;34m.\u001b[0m\u001b[0mbackward\u001b[0m\u001b[0;34m(\u001b[0m\u001b[0;34m)\u001b[0m\u001b[0;34m\u001b[0m\u001b[0;34m\u001b[0m\u001b[0m\n\u001b[0m\u001b[1;32m    126\u001b[0m \u001b[0;34m\u001b[0m\u001b[0m\n\u001b[1;32m    127\u001b[0m         \u001b[0;31m## Step 4 ________________\u001b[0m\u001b[0;34m\u001b[0m\u001b[0;34m\u001b[0m\u001b[0;34m\u001b[0m\u001b[0m\n",
            "\u001b[0;32m<ipython-input-61-ea5d9c515501>\u001b[0m in \u001b[0;36mbackward\u001b[0;34m(self)\u001b[0m\n\u001b[1;32m     47\u001b[0m                         \u001b[0mn\u001b[0m\u001b[0;34m.\u001b[0m\u001b[0mgrad\u001b[0m\u001b[0;34m[\u001b[0m\u001b[0mp\u001b[0m\u001b[0;34m]\u001b[0m\u001b[0;34m.\u001b[0m\u001b[0mappend\u001b[0m\u001b[0;34m(\u001b[0m\u001b[0mgrad\u001b[0m\u001b[0;34m.\u001b[0m\u001b[0mpop\u001b[0m\u001b[0;34m(\u001b[0m\u001b[0;36m0\u001b[0m\u001b[0;34m)\u001b[0m\u001b[0;34m)\u001b[0m\u001b[0;34m\u001b[0m\u001b[0;34m\u001b[0m\u001b[0m\n\u001b[1;32m     48\u001b[0m                     \u001b[0;32melse\u001b[0m\u001b[0;34m:\u001b[0m\u001b[0;34m\u001b[0m\u001b[0;34m\u001b[0m\u001b[0m\n\u001b[0;32m---> 49\u001b[0;31m                         \u001b[0mn\u001b[0m\u001b[0;34m.\u001b[0m\u001b[0mgrad\u001b[0m\u001b[0;34m[\u001b[0m\u001b[0mp\u001b[0m\u001b[0;34m]\u001b[0m \u001b[0;34m=\u001b[0m \u001b[0;34m[\u001b[0m\u001b[0mgrad\u001b[0m\u001b[0;34m.\u001b[0m\u001b[0mpop\u001b[0m\u001b[0;34m(\u001b[0m\u001b[0;36m0\u001b[0m\u001b[0;34m)\u001b[0m\u001b[0;34m]\u001b[0m\u001b[0;34m\u001b[0m\u001b[0;34m\u001b[0m\u001b[0m\n\u001b[0m\u001b[1;32m     50\u001b[0m             \u001b[0;32melif\u001b[0m \u001b[0mn\u001b[0m\u001b[0;34m.\u001b[0m\u001b[0mvar\u001b[0m \u001b[0;32min\u001b[0m \u001b[0mself\u001b[0m\u001b[0;34m.\u001b[0m\u001b[0min_vars\u001b[0m\u001b[0;34m:\u001b[0m \u001b[0;31m# Detta ska inte bara göras i leaf?\u001b[0m\u001b[0;34m\u001b[0m\u001b[0;34m\u001b[0m\u001b[0m\n\u001b[1;32m     51\u001b[0m                 \u001b[0mgrads\u001b[0m \u001b[0;34m=\u001b[0m \u001b[0;34m[\u001b[0m\u001b[0mc\u001b[0m\u001b[0;34m.\u001b[0m\u001b[0mgrad\u001b[0m \u001b[0;32mfor\u001b[0m \u001b[0mc\u001b[0m \u001b[0;32min\u001b[0m \u001b[0mn\u001b[0m\u001b[0;34m.\u001b[0m\u001b[0mchildren\u001b[0m\u001b[0;34m]\u001b[0m\u001b[0;34m\u001b[0m\u001b[0;34m\u001b[0m\u001b[0m\n",
            "\u001b[0;31mAttributeError\u001b[0m: 'NoneType' object has no attribute 'pop'"
          ]
        }
      ]
    },
    {
      "cell_type": "code",
      "source": [
        "#@title Test Function for Grading [do not change]\n",
        "\n",
        "utils.test_backprop(Builder, Executor)"
      ],
      "metadata": {
        "colab": {
          "base_uri": "https://localhost:8080/"
        },
        "cellView": "form",
        "id": "d4qAd9lBtSmX",
        "outputId": "fc26b01d-ed18-42ce-c9ff-027b450665ec"
      },
      "execution_count": null,
      "outputs": [
        {
          "output_type": "stream",
          "name": "stdout",
          "text": [
            "\n",
            "0: problem: x/y, in_vars: {'x': 1.0, 'y': 1.0}\n",
            "FAILURE output: -1 != 1.0\n",
            "FAILURE derivative: {} != {'x': 1.0, 'y': -1.0}\n",
            "\n",
            "1: problem: exp(x) - (y * 2), in_vars: {'x': 2.0, 'y': -2.0}\n",
            "FAILURE output: -1 != 11.39\n",
            "FAILURE derivative: {} != {'x': 7.39, 'y': -2.0}\n",
            "\n",
            "2: problem: (x^2 - 1) * (y+2), in_vars: {'x': 3.0, 'y': 2.0}\n",
            "FAILURE output: -1 != 32.0\n",
            "FAILURE derivative: {} != {'x': 24.0, 'y': 8.0}\n",
            "\n",
            "3: problem: z + sin(x^(2) + (y * exp(z))), in_vars: {'x': 2.0, 'y': -1.0, 'z': 0.0}\n",
            "FAILURE output: -1 != 0.14\n",
            "FAILURE derivative: {} != {'x': -3.96, 'y': -0.99, 'z': 1.99}\n"
          ]
        }
      ]
    },
    {
      "cell_type": "code",
      "source": [],
      "metadata": {
        "id": "uhPtpwnguoCL"
      },
      "execution_count": null,
      "outputs": []
    }
  ]
}